{
 "cells": [
  {
   "cell_type": "code",
   "execution_count": 880,
   "id": "b089e080-637f-43e1-8787-21108a2e114b",
   "metadata": {},
   "outputs": [],
   "source": [
    "import torch\n",
    "from torch import optim\n",
    "torch.manual_seed(42)\n",
    "import numpy as np\n",
    "from matplotlib import pyplot as plt\n",
    "%matplotlib inline\n",
    "import copy"
   ]
  },
  {
   "cell_type": "code",
   "execution_count": 881,
   "id": "cf6431e3-9b15-4f15-86db-4d32275d0ed3",
   "metadata": {},
   "outputs": [],
   "source": [
    "def draw_circle(x, y, radius, col='g'):\n",
    "    # helper function to draw a circle with a given color\n",
    "    th = torch.arange(0,2*np.pi,0.01)\n",
    "    xunit = radius * torch.cos(th) + x\n",
    "    yunit = radius * torch.sin(th) + y\n",
    "    plt.plot(xunit, yunit, col)\n",
    "    return xunit, yunit"
   ]
  },
  {
   "cell_type": "code",
   "execution_count": 882,
   "id": "bc9e6b9d-c797-45ba-afa2-bceb86ec3a15",
   "metadata": {},
   "outputs": [],
   "source": [
    "N = 100 # number of samples/trajectories\n",
    "H = 30 # horizon for each trajectory\n",
    "a_dim = 2 # dimension for action space, v and w"
   ]
  },
  {
   "cell_type": "markdown",
   "id": "233c5475-d8d2-426f-928a-ac80eb61f2cb",
   "metadata": {},
   "source": [
    "## Sample controls from a given mean and variance"
   ]
  },
  {
   "cell_type": "code",
   "execution_count": 883,
   "id": "a50b1e55-abac-4848-8301-9e5e3acb48e7",
   "metadata": {},
   "outputs": [],
   "source": [
    "v_mean = torch.tensor([12]) # mean for velocity\n",
    "v_var = torch.tensor([2]) # variance for velocity\n",
    "w_mean = torch.tensor([0]) # mean for angular velocity\n",
    "w_var = torch.tensor([2]) # variance for angular velocity"
   ]
  },
  {
   "cell_type": "code",
   "execution_count": 884,
   "id": "c38b7014-d9ce-48db-9bb6-d2d082b3cfb6",
   "metadata": {},
   "outputs": [
    {
     "name": "stdout",
     "output_type": "stream",
     "text": [
      "Mean velocity:  tensor(-0.0114)\n",
      "Mean angular-velocity:  tensor(0.0272)\n",
      "STD of Velocity:  tensor(1.0136)\n",
      "STD of angular-velocity:  tensor(0.9986)\n",
      "Max v:  tensor(2.9807)\n",
      "Min v:  tensor(-3.8325)\n",
      "Max w:  tensor(3.4456)\n",
      "Min w:  tensor(-3.1063)\n"
     ]
    }
   ],
   "source": [
    "u = torch.randn(N,H,a_dim) # sample the controls from a normal distribution with 0 mean and 1 variance\n",
    "print(\"Mean velocity: \",torch.mean(u[:,:,0]))\n",
    "print(\"Mean angular-velocity: \", torch.mean(u[:,:,1]))\n",
    "print(\"STD of Velocity: \", torch.std(u[:,:,0]))\n",
    "print(\"STD of angular-velocity: \",torch.std(u[:,:,1]))\n",
    "print(\"Max v: \", torch.max(u[:,:,0]))\n",
    "print(\"Min v: \", torch.min(u[:,:,0]))\n",
    "print(\"Max w: \", torch.max(u[:,:,1]))\n",
    "print(\"Min w: \", torch.min(u[:,:,1]))"
   ]
  },
  {
   "cell_type": "code",
   "execution_count": 885,
   "id": "a628ba7e-b0ea-47f8-8638-df24c5ace868",
   "metadata": {},
   "outputs": [
    {
     "name": "stdout",
     "output_type": "stream",
     "text": [
      "Mean velocity:  tensor(11.9773)\n",
      "Mean angular-velocity:  tensor(0.0543)\n",
      "STD of velocity:  tensor(2.0271)\n",
      "STD of angular-velocity:  tensor(1.9971)\n"
     ]
    }
   ],
   "source": [
    "# update the distribution to the user-defined mean and variance\n",
    "# act_seq = copy.copy(u.data)\n",
    "u[:,:,0] = u[:,:,0]*v_var+v_mean\n",
    "u[:,:,1] = u[:,:,1]*w_var+w_mean\n",
    "print(\"Mean velocity: \",torch.mean(u[:,:,0]))\n",
    "print(\"Mean angular-velocity: \", torch.mean(u[:,:,1]))\n",
    "print(\"STD of velocity: \", torch.std(u[:,:,0]))\n",
    "print(\"STD of angular-velocity: \",torch.std(u[:,:,1]))"
   ]
  },
  {
   "cell_type": "markdown",
   "id": "5b2bbb06-b0a3-4af7-924b-0a619f5e4327",
   "metadata": {},
   "source": [
    "## Clip samples within it's bounds"
   ]
  },
  {
   "cell_type": "code",
   "execution_count": 886,
   "id": "145b1273-c9bc-4999-a963-9c3e81cee23d",
   "metadata": {},
   "outputs": [],
   "source": [
    "def clip(u, v_bound, w_bound):\n",
    "    '''\n",
    "    function to clip the velocity and angular velocity within it's bounds\n",
    "    v_bound = [v_min, v_max]\n",
    "    w_bound = [w_min, w_max]\n",
    "    '''\n",
    "    for i in range(u.shape[0]):\n",
    "        for j in range(u.shape[1]):\n",
    "            if(u[i,j,0]<v_bound[0]):\n",
    "                u[i,j,0]=v_bound[0]\n",
    "            if(u[i,j,0]>v_bound[1]):\n",
    "                u[i,j,0]=v_bound[1]\n",
    "            if(u[i,j,1]<w_bound[0]):\n",
    "                u[i,j,1]=w_bound[0]\n",
    "            if(u[i,j,1]>w_bound[1]):\n",
    "                u[i,j,1]=w_bound[1]\n",
    "    return u"
   ]
  },
  {
   "cell_type": "code",
   "execution_count": 887,
   "id": "47da7933-194e-4077-87ee-48144545ad0e",
   "metadata": {},
   "outputs": [
    {
     "name": "stdout",
     "output_type": "stream",
     "text": [
      "Max v:  tensor(17.9613, grad_fn=<MaxBackward1>)\n",
      "Min v:  tensor(8., grad_fn=<MinBackward1>)\n",
      "Max w:  tensor(0.5000, grad_fn=<MaxBackward1>)\n",
      "Min w:  tensor(-0.5000, grad_fn=<MinBackward1>)\n"
     ]
    }
   ],
   "source": [
    "u = clip(u, [8,20], [-0.5,0.5])\n",
    "u.requires_grad = True\n",
    "\n",
    "print(\"Max v: \", torch.max(u[:,:,0]))\n",
    "print(\"Min v: \", torch.min(u[:,:,0]))\n",
    "print(\"Max w: \", torch.max(u[:,:,1]))\n",
    "print(\"Min w: \", torch.min(u[:,:,1]))"
   ]
  },
  {
   "cell_type": "markdown",
   "id": "061ecb34-8c8b-489b-8450-9ad00a529c17",
   "metadata": {},
   "source": [
    "## Rollout the trajectories using unicycle model"
   ]
  },
  {
   "cell_type": "code",
   "execution_count": 888,
   "id": "c033ed10-5199-4184-a4ba-ee29905be9b3",
   "metadata": {},
   "outputs": [],
   "source": [
    "def unicycle(state,u,dt=0.1):\n",
    "    '''\n",
    "    state = current state of the vehicle [x,y,theta]\n",
    "    u = [v,w]\n",
    "    '''\n",
    "    state[2] = state[2]+u[1].float()*dt\n",
    "    state[0] = state[0] + u[0]*torch.cos(state[2])*dt\n",
    "    state[1] = state[1] + u[0]*torch.sin(state[2])*dt\n",
    "    return state"
   ]
  },
  {
   "cell_type": "code",
   "execution_count": 889,
   "id": "8f6d6d6e-d685-472d-be2a-857ac9a045ac",
   "metadata": {},
   "outputs": [],
   "source": [
    "start_state = torch.tensor([0,0,torch.deg2rad(torch.tensor([90]))]) # the starting state of the vehicle\n",
    "goal_state = torch.tensor([0,40,torch.deg2rad(torch.tensor([90]))]) # the goal state of the vehicle"
   ]
  },
  {
   "cell_type": "code",
   "execution_count": 890,
   "id": "14048d38-c1b7-4416-8152-3671cb22afa3",
   "metadata": {},
   "outputs": [],
   "source": [
    "def rollout(u, start_state):\n",
    "    '''\n",
    "    function to rollout the N trajectories using the unicycle model.\n",
    "    u = sampled controls\n",
    "    start_state = starting state of the vehicle\n",
    "    '''\n",
    "    traj_N = torch.zeros([u.shape[0],H+1,3]) # each trajectory is of size H+1 where position 0 is the current state of the vehicle\n",
    "    traj_N[:,0,:]=start_state\n",
    "    for i in range(u.shape[0]):\n",
    "        for j in range(1,H):\n",
    "            new_state = unicycle(traj_N[i,j-1,:],u[i,j,:],dt=0.1)\n",
    "            traj_N[i,j,:] = new_state\n",
    "    return traj_N\n",
    "traj_N = rollout(u,start_state)"
   ]
  },
  {
   "cell_type": "code",
   "execution_count": 891,
   "id": "475104e7-07d5-4ea3-ad90-a60049cfc84f",
   "metadata": {},
   "outputs": [
    {
     "data": {
      "image/png": "[encoded data removed]",
      "text/plain": [
       "<Figure size 640x480 with 1 Axes>"
      ]
     },
     "metadata": {},
     "output_type": "display_data"
    }
   ],
   "source": [
    "# plot the sampled trajectories\n",
    "for i in range(N):\n",
    "    plt.plot(traj_N[i,:,0].detach().numpy(),traj_N[i,:,1].detach().numpy(),'b.', ms=1)\n",
    "draw_circle(0, 0, radius=2)\n",
    "plt.xlim([-45,45])\n",
    "plt.ylim([-45,45])\n",
    "plt.show()"
   ]
  },
  {
   "cell_type": "markdown",
   "id": "70f45c68-d2cd-4073-a6b7-89c3ac4b056a",
   "metadata": {},
   "source": [
    "## Score trajectories"
   ]
  },
  {
   "cell_type": "markdown",
   "id": "4ee57548-fc9d-41f4-bdbd-df536d6b6f78",
   "metadata": {},
   "source": [
    "### Smoothness cost"
   ]
  },
  {
   "cell_type": "code",
   "execution_count": 892,
   "id": "9203d302-c2db-4c26-8051-56cf21dcffdb",
   "metadata": {},
   "outputs": [],
   "source": [
    "smoothness_cost_v_N = torch.zeros(N)\n",
    "smoothness_cost_w_N = torch.zeros(N)\n",
    "for i in range(N):\n",
    "    for j in range(1,H):\n",
    "        v1 = u[i,j-1,0]\n",
    "        v2 = u[i,j,0]\n",
    "        w1 = u[i,j-1,1]\n",
    "        w2 = u[i,j,1]\n",
    "        smoothness_cost_v_N[i] += torch.linalg.norm((v2-v1))\n",
    "        smoothness_cost_w_N[i] += torch.linalg.norm((w2-w1))"
   ]
  },
  {
   "cell_type": "code",
   "execution_count": 893,
   "id": "9ddcdede-34d4-4d17-a269-50823c8601c4",
   "metadata": {},
   "outputs": [
    {
     "name": "stdout",
     "output_type": "stream",
     "text": [
      "tensor(8.1268) tensor(43.5062)\n"
     ]
    }
   ],
   "source": [
    "print(torch.min(smoothness_cost_w_N).data, torch.min(smoothness_cost_v_N).data )\n",
    "# print(torch.min(smoothness_cost_v_N))"
   ]
  },
  {
   "cell_type": "markdown",
   "id": "2b578a01-0f76-45cb-bb75-649691284ea9",
   "metadata": {},
   "source": [
    "## Select elite trajectories"
   ]
  },
  {
   "cell_type": "code",
   "execution_count": 894,
   "id": "edc424c7-3cc7-4525-9e61-d2ef8a2f33be",
   "metadata": {},
   "outputs": [
    {
     "name": "stdout",
     "output_type": "stream",
     "text": [
      "tensor(7.6527) tensor(40.7098)\n"
     ]
    }
   ],
   "source": [
    "loss = smoothness_cost_v_N + smoothness_cost_w_N\n",
    "\n",
    "optimizer = optim.Adam([u], lr=0.01)\n",
    "optimizer.zero_grad()\n",
    "(smoothness_cost_v_N.mean() + smoothness_cost_w_N.mean()).backward()\n",
    "for i in range(10):\n",
    "    optimizer.step()\n",
    "top_values, top_idx = torch.topk(loss, int(0.05*N), largest=False, sorted=True)\n",
    "top_trajs = torch.index_select(traj_N, 0, top_idx)\n",
    "top_controls = torch.index_select(u, 0, top_idx)\n",
    "\n",
    "smoothness_cost_v_N = torch.zeros(int(0.05*N))\n",
    "smoothness_cost_w_N = torch.zeros(int(0.05*N))\n",
    "for i in range(int(0.05*N)):\n",
    "    for j in range(1,H):\n",
    "        v1 = top_controls[i,j-1,0]\n",
    "        v2 = top_controls[i,j,0]\n",
    "        w1 = top_controls[i,j-1,1]\n",
    "        w2 = top_controls[i,j,1]\n",
    "        smoothness_cost_v_N[i] += torch.linalg.norm((v2-v1))\n",
    "        smoothness_cost_w_N[i] += torch.linalg.norm((w2-w1))\n",
    "print(torch.min(smoothness_cost_w_N).data, torch.min(smoothness_cost_v_N).data)"
   ]
  },
  {
   "cell_type": "markdown",
   "id": "27e91d35-e440-4b86-a531-04221bd9ed4e",
   "metadata": {},
   "source": [
    "## Update the means and the variance"
   ]
  },
  {
   "cell_type": "code",
   "execution_count": 895,
   "id": "dce8b03a-15d3-4f2c-b4d5-cc62d72d0408",
   "metadata": {
    "tags": []
   },
   "outputs": [
    {
     "name": "stdout",
     "output_type": "stream",
     "text": [
      "tensor([12])\n",
      "tensor([0])\n",
      "tensor([2])\n",
      "tensor([2])\n"
     ]
    }
   ],
   "source": [
    "print(v_mean)\n",
    "print(w_mean)\n",
    "print(v_var)\n",
    "print(w_var)"
   ]
  },
  {
   "cell_type": "code",
   "execution_count": 896,
   "id": "18798a63-f9ad-47b8-95e4-0c058dc60010",
   "metadata": {},
   "outputs": [],
   "source": [
    "v_mean = torch.mean(top_controls[:,:,0])\n",
    "v_var = torch.var(top_controls[:,:,0])\n",
    "w_mean = torch.mean(top_controls[:,:,1])\n",
    "w_var = torch.var(top_controls[:,:,1])"
   ]
  },
  {
   "cell_type": "code",
   "execution_count": 897,
   "id": "4a2db2fe-e0be-4272-8806-6e432b7c5c68",
   "metadata": {},
   "outputs": [
    {
     "name": "stdout",
     "output_type": "stream",
     "text": [
      "tensor(11.9768, grad_fn=<MeanBackward0>)\n",
      "tensor(0.0649, grad_fn=<MeanBackward0>)\n",
      "tensor(2.8616, grad_fn=<VarBackward0>)\n",
      "tensor(0.1596, grad_fn=<VarBackward0>)\n"
     ]
    }
   ],
   "source": [
    "print(v_mean)\n",
    "print(w_mean)\n",
    "print(v_var)\n",
    "print(w_var)"
   ]
  },
  {
   "cell_type": "markdown",
   "id": "6b9c2a9a-4e6b-4af8-b709-38cae5f862ba",
   "metadata": {},
   "source": [
    "## Do the above steps iteratively"
   ]
  },
  {
   "cell_type": "code",
   "execution_count": 901,
   "id": "bed993ae-a6f4-4ad1-bf8e-b25ce4341eb0",
   "metadata": {},
   "outputs": [
    {
     "data": {
      "image/png": "[encoded data removed]",
      "text/plain": [
       "<Figure size 640x480 with 1 Axes>"
      ]
     },
     "metadata": {},
     "output_type": "display_data"
    },
    {
     "name": "stdout",
     "output_type": "stream",
     "text": [
      "tensor(6.8026) tensor(37.6182)\n"
     ]
    },
    {
     "data": {
      "text/plain": [
       "<Figure size 640x480 with 0 Axes>"
      ]
     },
     "metadata": {},
     "output_type": "display_data"
    }
   ],
   "source": [
    "import torch\n",
    "from torch import optim\n",
    "torch.manual_seed(42)\n",
    "import numpy as np\n",
    "from matplotlib import pyplot as plt\n",
    "%matplotlib inline\n",
    "import copy\n",
    "\n",
    "v_var = 2 \n",
    "w_var = 2 \n",
    "v_mean = 12\n",
    "w_mean = 0\n",
    "for iter in range(1):\n",
    "    u = torch.randn(N,H,a_dim)\n",
    "    u[:,:,0] =u[:,:,0]*v_var + v_mean\n",
    "    u[:,:,1] =u[:,:,1]*w_var + w_mean\n",
    "    u = clip(u, [8,20], [-0.5,0.5])\n",
    "    u.requires_grad = True\n",
    "    start_state = torch.tensor([0,0,torch.deg2rad(torch.tensor([90]))])\n",
    "    traj_N = rollout(u,start_state)\n",
    "    for i in range(N):\n",
    "        line, = plt.plot(traj_N[i,:,0].detach().numpy(),traj_N[i,:,1].detach().numpy(),'b.', ms=1)\n",
    "        draw_circle(0, 0, radius=2)\n",
    "\n",
    "    smoothness_cost_v_N = torch.zeros(N)\n",
    "    smoothness_cost_w_N = torch.zeros(N)\n",
    "    for i in range(N):\n",
    "        for j in range(1,H):\n",
    "            v1 = u[i,j-1,0]\n",
    "            v2 = u[i,j,0]\n",
    "            w1 = u[i,j-1,1]\n",
    "            w2 = u[i,j,1]\n",
    "            smoothness_cost_v_N[i] += torch.linalg.norm((v2-v1))\n",
    "            smoothness_cost_w_N[i] += torch.linalg.norm((w2-w1))\n",
    "\n",
    "    loss = smoothness_cost_v_N + smoothness_cost_w_N\n",
    "    optimizer = optim.Adam([u], lr=0.01)\n",
    "    optimizer.zero_grad()\n",
    "    (1*smoothness_cost_v_N.mean() + 1*smoothness_cost_w_N.mean()).backward()\n",
    "    for i in range(20):\n",
    "        optimizer.step()\n",
    "    top_values, top_idx = torch.topk(loss, int(0.05*N), largest=False, sorted=True)\n",
    "    top_controls = torch.index_select(u, 0, top_idx)\n",
    "    top_trajs = rollout(top_controls,start_state)\n",
    "    \n",
    "    # total_cost_N = smoothness_cost_v_N + smoothness_cost_w_N\n",
    "    # top_values, top_idx = torch.topk(total_cost_N, int(0.05*N), largest=False, sorted=True)\n",
    "    # top_trajs = torch.index_select(traj_N, 0, top_idx)\n",
    "    # top_controls = torch.index_select(u, 0, top_idx)\n",
    "    plt.plot(top_trajs[0,:,0].detach().numpy(),top_trajs[0,:,1].detach().numpy(),'.r')\n",
    "    plt.xlim([-45,45])\n",
    "    plt.ylim([-45,45])\n",
    "    plt.draw()\n",
    "    plt.pause(1/60)\n",
    "    plt.clf() \n",
    "    v_mean = torch.mean(top_controls[:,:,0].detach())\n",
    "    v_var = torch.var(top_controls[:,:,0].detach())\n",
    "    w_mean = torch.mean(top_controls[:,:,1].detach())\n",
    "    w_var = torch.var(top_controls[:,:,1].detach())\n",
    "\n",
    "smoothness_cost_v_N = torch.zeros(top_controls.shape[0])\n",
    "smoothness_cost_w_N = torch.zeros(top_controls.shape[0])\n",
    "for i in range(top_controls.shape[0]):\n",
    "    for j in range(1,H):\n",
    "        v1 = top_controls[i,j-1,0]\n",
    "        v2 = top_controls[i,j,0]\n",
    "        w1 = top_controls[i,j-1,1]\n",
    "        w2 = top_controls[i,j,1]\n",
    "        smoothness_cost_v_N[i] += torch.linalg.norm((v2-v1))\n",
    "        smoothness_cost_w_N[i] += torch.linalg.norm((w2-w1))\n",
    "print(torch.min(smoothness_cost_w_N).data, torch.min(smoothness_cost_v_N).data)"
   ]
  },
  {
   "cell_type": "code",
   "execution_count": 900,
   "id": "4d8b6cf7-bd60-49f9-bc19-04eedf8f42b8",
   "metadata": {
    "tags": []
   },
   "outputs": [
    {
     "data": {
      "image/png": "[encoded data removed]",
      "text/plain": [
       "<Figure size 640x480 with 1 Axes>"
      ]
     },
     "metadata": {},
     "output_type": "display_data"
    },
    {
     "name": "stdout",
     "output_type": "stream",
     "text": [
      "tensor(9.3267) tensor(43.5062)\n"
     ]
    },
    {
     "data": {
      "text/plain": [
       "<Figure size 640x480 with 0 Axes>"
      ]
     },
     "metadata": {},
     "output_type": "display_data"
    }
   ],
   "source": [
    "import torch\n",
    "from torch import optim\n",
    "torch.manual_seed(42)\n",
    "import numpy as np\n",
    "from matplotlib import pyplot as plt\n",
    "%matplotlib inline\n",
    "import copy\n",
    "\n",
    "v_var = 2 \n",
    "w_var = 2 \n",
    "v_mean = 12\n",
    "w_mean = 0\n",
    "for iter in range(1):\n",
    "    u = torch.randn(N,H,a_dim)\n",
    "    u[:,:,0] =u[:,:,0]*v_var + v_mean\n",
    "    u[:,:,1] =u[:,:,1]*w_var + w_mean\n",
    "    u = clip(u, [8,20], [-0.5,0.5])\n",
    "    u.requires_grad = True\n",
    "    start_state = torch.tensor([0,0,torch.deg2rad(torch.tensor([90]))])\n",
    "    traj_N = rollout(u,start_state)\n",
    "    for i in range(N):\n",
    "        line, = plt.plot(traj_N[i,:,0].detach().numpy(),traj_N[i,:,1].detach().numpy(),'b.', ms=1)\n",
    "        draw_circle(0, 0, radius=2)\n",
    "\n",
    "    smoothness_cost_v_N = torch.zeros(N)\n",
    "    smoothness_cost_w_N = torch.zeros(N)\n",
    "    for i in range(N):\n",
    "        for j in range(1,H):\n",
    "            v1 = u[i,j-1,0]\n",
    "            v2 = u[i,j,0]\n",
    "            w1 = u[i,j-1,1]\n",
    "            w2 = u[i,j,1]\n",
    "            smoothness_cost_v_N[i] += torch.linalg.norm((v2-v1))\n",
    "            smoothness_cost_w_N[i] += torch.linalg.norm((w2-w1))\n",
    "\n",
    "    loss = smoothness_cost_v_N + smoothness_cost_w_N\n",
    "    # optimizer = optim.Adam([u], lr=0.01)\n",
    "    # optimizer.zero_grad()\n",
    "    # (1*smoothness_cost_v_N.mean() + 1*smoothness_cost_w_N.mean()).backward()\n",
    "    # for i in range(20):\n",
    "    #     optimizer.step()\n",
    "    # top_values, top_idx = torch.topk(loss, int(0.05*N), largest=False, sorted=True)\n",
    "    # top_controls = torch.index_select(u, 0, top_idx)\n",
    "    # top_trajs = rollout(top_controls,start_state)\n",
    "    \n",
    "    total_cost_N = smoothness_cost_v_N + smoothness_cost_w_N\n",
    "    top_values, top_idx = torch.topk(total_cost_N, int(0.05*N), largest=False, sorted=True)\n",
    "    top_trajs = torch.index_select(traj_N, 0, top_idx)\n",
    "    top_controls = torch.index_select(u, 0, top_idx)\n",
    "    plt.plot(top_trajs[0,:,0].detach().numpy(),top_trajs[0,:,1].detach().numpy(),'.r')\n",
    "    plt.xlim([-45,45])\n",
    "    plt.ylim([-45,45])\n",
    "    plt.draw()\n",
    "    plt.pause(1/60)\n",
    "    plt.clf() \n",
    "    v_mean = torch.mean(top_controls[:,:,0].detach())\n",
    "    v_var = torch.var(top_controls[:,:,0].detach())\n",
    "    w_mean = torch.mean(top_controls[:,:,1].detach())\n",
    "    w_var = torch.var(top_controls[:,:,1].detach())\n",
    "smoothness_cost_v_N = torch.zeros(top_controls.shape[0])\n",
    "smoothness_cost_w_N = torch.zeros(top_controls.shape[0])\n",
    "for i in range(top_controls.shape[0]):\n",
    "    for j in range(1,H):\n",
    "        v1 = top_controls[i,j-1,0]\n",
    "        v2 = top_controls[i,j,0]\n",
    "        w1 = top_controls[i,j-1,1]\n",
    "        w2 = top_controls[i,j,1]\n",
    "        smoothness_cost_v_N[i] += torch.linalg.norm((v2-v1))\n",
    "        smoothness_cost_w_N[i] += torch.linalg.norm((w2-w1))\n",
    "print(torch.min(smoothness_cost_w_N).data, torch.min(smoothness_cost_v_N).data)"
   ]
  },
  {
   "cell_type": "code",
   "execution_count": null,
   "id": "d9ed42c1-1b4b-4938-a341-74c9bb8b3e5a",
   "metadata": {},
   "outputs": [],
   "source": []
  }
 ],
 "metadata": {
  "kernelspec": {
   "display_name": "Python 3 (ipykernel)",
   "language": "python",
   "name": "python3"
  },
  "language_info": {
   "codemirror_mode": {
    "name": "ipython",
    "version": 3
   },
   "file_extension": ".py",
   "mimetype": "text/x-python",
   "name": "python",
   "nbconvert_exporter": "python",
   "pygments_lexer": "ipython3",
   "version": "3.8.16"
  }
 },
 "nbformat": 4,
 "nbformat_minor": 5
}
