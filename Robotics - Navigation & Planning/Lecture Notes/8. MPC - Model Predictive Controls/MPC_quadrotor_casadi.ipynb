{
 "cells": [
  {
   "cell_type": "code",
   "execution_count": 315,
   "id": "b76b15f7-f18d-45dd-8bbb-b440471f15c0",
   "metadata": {},
   "outputs": [],
   "source": [
    "import casadi as ca\n",
    "import numpy as np\n",
    "\n",
    "\n",
    "pos     = ca.MX.sym('pos', 3)\n",
    "q       = ca.MX.sym('q', 4)\n",
    "vel     = ca.MX.sym('vel', 3)\n",
    "w       = ca.MX.sym('w', 3)\n",
    "u       = ca.MX.sym('u', 4)\n",
    "aero_drag = 0.8\n",
    "m = 1.0\n",
    "payload_mass = 0.01\n",
    "drag =1\n",
    "\n",
    "l = 0.5  #arm length\n",
    "k = 0.01  # moment constant\n",
    "\n",
    "# Moments of inertia\n",
    "J1, J2, J3 = 0.03, 0.03, 0.06\n",
    "\n",
    "# Create a CasADi diagonal matrix for J\n",
    "J = ca.diag([J1, J2, J3])\n",
    "\n",
    "# Define the skew-symmetric matrix function\n",
    "skew_symmetric_matrix = ca.vertcat(\n",
    "    ca.horzcat(0, -w[2], w[1], w[0]),\n",
    "    ca.horzcat(w[2], 0, -w[0], w[1]),\n",
    "    ca.horzcat(-w[1], w[0], 0, -w[2]),\n",
    "    ca.horzcat(-w[0], -w[1], w[2], 0)\n",
    ")\n",
    "\n",
    "# Create a CasADi Function object for the 4x4 skew-symmetric matrix\n",
    "skew_symmetric_func_4x4 = ca.Function('skew_symmetric_func_4x4', [w], [skew_symmetric_matrix])\n",
    "\n",
    "pos_dot = vel\n",
    "\n",
    "qw = q[0]\n",
    "qx = q[1]\n",
    "qy = q[2]\n",
    "qz = q[3]\n",
    "\n",
    "# Define the elements of the rotation matrix\n",
    "r11 = 1 - 2*qy**2 - 2*qz**2\n",
    "r12 = 2*qx*qy - 2*qz*qw\n",
    "r13 = 2*qx*qz + 2*qy*qw\n",
    "\n",
    "r21 = 2*qx*qy + 2*qz*qw\n",
    "r22 = 1 - 2*qx**2 - 2*qz**2\n",
    "r23 = 2*qy*qz - 2*qx*qw\n",
    "\n",
    "r31 = 2*qx*qz - 2*qy*qw\n",
    "r32 = 2*qy*qz + 2*qx*qw\n",
    "r33 = 1 - 2*qx**2 - 2*qy**2\n",
    "\n",
    "# Create a CasADi MX matrix for the rotation matrix\n",
    "rot_matrix = ca.vertcat(\n",
    "    ca.horzcat(r11, r12, r13),\n",
    "    ca.horzcat(r21, r22, r23),\n",
    "    ca.horzcat(r31, r32, r33)\n",
    ")\n",
    "\n",
    "a_thrust  = ca.vertcat(0, 0, ca.sum1(u)) / m\n",
    "if(drag == 1):\n",
    "    v_b = ca.mtimes(rot_matrix.T, vel)\n",
    "    a_drag = -aero_drag * v_b**2 * ca.sign(v_b)/m\n",
    "    rotor_drag_xy = 0.3\n",
    "    rotor_drag_z = 0.0\n",
    "    rotor_drag = ca.vertcat([rotor_drag_xy, rotor_drag_xy, rotor_drag_z])\n",
    "    a_drag += -rotor_drag * v_b/m\n",
    "\n",
    "    a_drag_world = ca.mtimes(rot_matrix,a_drag)\n",
    "else:\n",
    "    a_drag_world = ca.vertcat(0, 0, 0)\n",
    "\n",
    "gravity   = ca.vertcat(0, 0, 9.81)\n",
    "a_payload = -payload_mass * gravity/m\n",
    "\n",
    "\n",
    "vel_dot = -gravity + ca.mtimes(rot_matrix,a_thrust) + a_payload + a_drag_world\n",
    "# Attitude dynamics\n",
    "q_dot = 0.5 * ca.mtimes(skew_symmetric_func_4x4(w), q)\n",
    "\n",
    "n = ca.vertcat( (l*(u[0] - u[1] - u[2] + u[3])/2**0.5), (l*(-u[0] - u[1] + u[2] + u[3])/2**0.5) , (k*(u[0] - u[1] + u[2] - u[3])))\n",
    "\n",
    "w_dot = ca.vertcat(\n",
    "        1 / J1 * (n[0] + (J2 - J3) * w[1] * w[2]),\n",
    "        1 / J2 * (n[1] + (J3 - J1) * w[2] * w[0]),\n",
    "        1 / J3 * (n[2] + (J1 - J2) * w[0] * w[1])\n",
    "    )\n"
   ]
  },
  {
   "cell_type": "code",
   "execution_count": 316,
   "id": "b7ab55b6-cdf0-442c-93ee-e6bc0467ddab",
   "metadata": {},
   "outputs": [],
   "source": [
    "state = ca.vertcat(pos, q, vel, w)\n",
    "state_dot = ca.vertcat(pos_dot, q_dot, vel_dot, w_dot)\n",
    "\n",
    "dynamics_func = ca.Function('dynamics_func', [state, u], [state_dot])\n",
    "\n",
    "\n",
    "initial_state = ca.vertcat([0.0, 0.0, 0.0], [1.0, 0.0, 0.0, 0.0], [0.0, 0.0, 0.0], [0.0, 0.0, 0.0])\n"
   ]
  },
  {
   "cell_type": "code",
   "execution_count": 317,
   "id": "2ecb5cac-ab1a-4328-a1da-49459b355340",
   "metadata": {},
   "outputs": [],
   "source": [
    "T = 5\n",
    "N = 20\n",
    "\n",
    "intg_options = {}\n",
    "intg_options['tf'] = T/N\n",
    "intg_options['simplify'] = True\n",
    "intg_options['number_of_finite_elements'] = 10\n",
    "\n",
    "ode = {}\n",
    "ode['x'] = state\n",
    "ode['u'] = u\n",
    "ode['ode'] = dynamics_func(state, u)\n",
    "\n",
    "intg = ca.integrator('intg', 'rk', ode, intg_options)\n",
    "\n",
    "ini_u = ca.vertcat(5,1,1,1)"
   ]
  },
  {
   "cell_type": "code",
   "execution_count": 318,
   "id": "0527ac49-b30b-4908-b983-204e5f6dcd19",
   "metadata": {},
   "outputs": [
    {
     "name": "stdout",
     "output_type": "stream",
     "text": [
      "(20, 4)\n",
      "(20, 4)\n"
     ]
    }
   ],
   "source": [
    "res = intg(x0 = state, u= u)\n",
    "next_state = res['xf'] \n",
    "\n",
    "# print(state.type)\n",
    "F = ca.Function('F',[state,u],[next_state],['state','u'],['next_state'])\n",
    "sim = F.mapaccum(N)\n",
    "u_values = np.random.uniform(0, 5, (N, 4))\n",
    "print(u_values.shape)\n",
    "u_values = np.zeros((N,4))\n",
    "\n",
    "print(u_values.shape)"
   ]
  },
  {
   "cell_type": "code",
   "execution_count": 319,
   "id": "371a4085-a1e3-4f75-954b-7cd1cfb1e2c9",
   "metadata": {},
   "outputs": [
    {
     "name": "stdout",
     "output_type": "stream",
     "text": [
      "(13, 21)\n"
     ]
    },
    {
     "data": {
      "text/plain": [
       "[<matplotlib.lines.Line2D at 0x7f2fa47dafd0>]"
      ]
     },
     "execution_count": 319,
     "metadata": {},
     "output_type": "execute_result"
    },
    {
     "data": {
      "image/png": "[encoded data removed]",
      "text/plain": [
       "<Figure size 640x480 with 1 Axes>"
      ]
     },
     "metadata": {},
     "output_type": "display_data"
    }
   ],
   "source": [
    "x0 = initial_state\n",
    "res = sim(x0,u_values.T)\n",
    "\n",
    "plt.figure\n",
    "tgrid = ca.linspace(0,T,N+1)\n",
    "i = 10\n",
    "full = ca.horzcat(x0,res)\n",
    "print(full.shape)\n",
    "plt.plot(tgrid,full[i,:].T)\n",
    "tgrid = ca.linspace(0,T,N)\n",
    "plt.plot(tgrid,res[i,:].T)\n",
    "# plt.plot(tgrid,res[1,:].T)\n",
    "# plt.plot(tgrid,res[2,:].T)\n",
    "# plt.plot(res[2,:10])\n",
    "# print(res[2,:10])"
   ]
  },
  {
   "cell_type": "code",
   "execution_count": 320,
   "id": "cbf9ef06-fad1-4326-9149-4b364adf1ead",
   "metadata": {},
   "outputs": [
    {
     "name": "stdout",
     "output_type": "stream",
     "text": [
      "(1, 20)\n",
      "(20, 80)\n",
      "(1, 20)\n"
     ]
    }
   ],
   "source": [
    "U = ca.MX.sym('U',4,N)\n",
    "X1 = sim(x0,U)[1,:]\n",
    "print(X1.shape)\n",
    "J = ca.jacobian(X1,U)\n",
    "print(J.shape)\n",
    "print(X1.shape)"
   ]
  },
  {
   "cell_type": "code",
   "execution_count": 321,
   "id": "376d123d-9b20-4d59-ab94-dc4cda6f9f07",
   "metadata": {},
   "outputs": [
    {
     "data": {
      "text/plain": [
       "<matplotlib.image.AxesImage at 0x7f2fa3ccfe50>"
      ]
     },
     "execution_count": 321,
     "metadata": {},
     "output_type": "execute_result"
    },
    {
     "data": {
      "image/png": "[encoded data removed]",
      "text/plain": [
       "<Figure size 640x480 with 1 Axes>"
      ]
     },
     "metadata": {},
     "output_type": "display_data"
    }
   ],
   "source": [
    "Jf = ca.Function('Jf',[U],[J])\n",
    "u_values = np.random.uniform(0, 5, (N, 4))\n",
    "plt.imshow(Jf(u_values.T).full())"
   ]
  },
  {
   "cell_type": "code",
   "execution_count": 322,
   "id": "b3eefb75-fc3e-4d54-a8d5-9df8bac8fa77",
   "metadata": {},
   "outputs": [
    {
     "data": {
      "text/plain": [
       "DM(\n",
       "[[-0.0018623, 0.00329352, 0.00120078, ..., 00, 00, 00], \n",
       " [-0.0261969, 0.0569137, 0.0210265, ..., 00, 00, 00], \n",
       " [-0.058753, 0.0826205, 0.0447982, ..., 00, 00, 00], \n",
       " ...,\n",
       " [11.153, 10.3025, -12.0776, ..., 00, 00, 00], \n",
       " [13.3107, 12.5066, -14.5422, ..., 00, 00, 00], \n",
       " [15.1706, 15.6215, -16.6984, ..., -0.0181644, -0.00610273, -0.0124312]])"
      ]
     },
     "execution_count": 322,
     "metadata": {},
     "output_type": "execute_result"
    }
   ],
   "source": [
    "Jf(u_values.T)"
   ]
  },
  {
   "cell_type": "code",
   "execution_count": 352,
   "id": "9636c0b3-faa7-4e2d-bd79-6f4ab3fd8bd4",
   "metadata": {},
   "outputs": [
    {
     "name": "stdout",
     "output_type": "stream",
     "text": [
      "This is Ipopt version 3.14.11, running with linear solver MUMPS 5.4.1.\n",
      "\n",
      "Number of nonzeros in equality constraint Jacobian...:     3286\n",
      "Number of nonzeros in inequality constraint Jacobian.:       80\n",
      "Number of nonzeros in Lagrangian Hessian.............:     2173\n",
      "\n",
      "Total number of variables............................:      353\n",
      "                     variables with only lower bounds:        0\n",
      "                variables with lower and upper bounds:        0\n",
      "                     variables with only upper bounds:        0\n",
      "Total number of equality constraints.................:      286\n",
      "Total number of inequality constraints...............:       80\n",
      "        inequality constraints with only lower bounds:        0\n",
      "   inequality constraints with lower and upper bounds:       80\n",
      "        inequality constraints with only upper bounds:        0\n",
      "\n",
      "iter    objective    inf_pr   inf_du lg(mu)  ||d||  lg(rg) alpha_du alpha_pr  ls\n",
      "   0  0.0000000e+00 2.14e+00 0.00e+00  -1.0 0.00e+00    -  0.00e+00 0.00e+00   0\n",
      "   1  6.5746541e+02 3.68e-01 4.55e+02  -1.0 2.89e+00    -  3.55e-03 1.00e+00h  1\n",
      "   2  5.1061095e+02 7.25e-03 7.70e+01  -1.0 4.95e-01    -  8.34e-01 1.00e+00f  1\n",
      "   3  5.1187585e+02 9.00e-04 1.36e+00  -1.0 1.67e-01    -  1.00e+00 1.00e+00h  1\n",
      "   4  5.1188049e+02 1.08e-03 2.18e-02  -1.0 8.73e-02    -  1.00e+00 1.00e+00h  1\n",
      "   5  5.1185223e+02 1.44e-07 5.62e-03  -2.5 8.85e-04   0.0 1.00e+00 1.00e+00h  1\n",
      "   6  5.1185223e+02 2.09e-08 1.44e-04  -3.8 3.24e-04  -0.5 1.00e+00 1.00e+00h  1\n",
      "   7  5.1185223e+02 1.23e-09 3.05e-04  -5.7 8.67e-05  -1.0 1.00e+00 1.00e+00h  1\n",
      "   8  5.1185223e+02 2.34e-10 2.65e-09  -5.7 3.52e-05    -  1.00e+00 1.00e+00h  1\n",
      "   9  5.1185223e+02 2.70e-15 5.79e-10  -8.6 1.38e-10   0.4 1.00e+00 1.00e+00h  1\n",
      "\n",
      "Number of Iterations....: 9\n",
      "\n",
      "                                   (scaled)                 (unscaled)\n",
      "Objective...............:   5.1185222805000012e+02    5.1185222805000012e+02\n",
      "Dual infeasibility......:   5.7875625329756928e-10    5.7875625329756928e-10\n",
      "Constraint violation....:   2.6955391421332974e-15    2.6955391421332974e-15\n",
      "Variable bound violation:   0.0000000000000000e+00    0.0000000000000000e+00\n",
      "Complementarity.........:   2.5059036427602383e-09    2.5059036427602383e-09\n",
      "Overall NLP error.......:   2.5059036427602383e-09    2.5059036427602383e-09\n",
      "\n",
      "\n",
      "Number of objective function evaluations             = 10\n",
      "Number of objective gradient evaluations             = 10\n",
      "Number of equality constraint evaluations            = 10\n",
      "Number of inequality constraint evaluations          = 10\n",
      "Number of equality constraint Jacobian evaluations   = 10\n",
      "Number of inequality constraint Jacobian evaluations = 10\n",
      "Number of Lagrangian Hessian evaluations             = 9\n",
      "Total seconds in IPOPT                               = 3.826\n",
      "\n",
      "EXIT: Optimal Solution Found.\n",
      "      solver  :   t_proc      (avg)   t_wall      (avg)    n_eval\n",
      "       nlp_f  |  36.00us (  3.60us)  35.68us (  3.57us)        10\n",
      "       nlp_g  |  40.21ms (  4.02ms)  40.03ms (  4.00ms)        10\n",
      "  nlp_grad_f  |  48.00us (  4.36us)  45.46us (  4.13us)        11\n",
      "  nlp_hess_l  |   2.85 s (316.61ms)   2.84 s (315.76ms)         9\n",
      "   nlp_jac_g  | 919.82ms ( 83.62ms) 917.50ms ( 83.41ms)        11\n",
      "       total  |   3.86 s (  3.86 s)   3.85 s (  3.85 s)         1\n"
     ]
    }
   ],
   "source": [
    "\n",
    "opti = ca.Opti()\n",
    "x = opti.variable(13,N+1)\n",
    "u = opti.variable(4,N)\n",
    "p = opti.parameter(13,1)\n",
    "\n",
    "\n",
    "cost = ca.sumsqr(x)+ca.sumsqr(u)\n",
    "opti.minimize(cost)\n",
    "\n",
    "# equality constraints\n",
    "for k in range(N):\n",
    "\n",
    "    opti.subject_to(x[:,k+1] == F(x[:,k],u[:,k]))\n",
    "\n",
    "opti.subject_to(x[:, 20] == p)\n",
    "opti.subject_to(x[:, 0] == p)\n",
    "\n",
    "#inequality constraints\n",
    "opti.subject_to(opti.bounded(0, u, 5))\n",
    "\n",
    "opti.set_value(p, initial_state)\n",
    "\n",
    "opti.solver('ipopt')  # Choose your solver\n",
    "opti.solve()\n",
    "\n",
    "# Retrieve the optimized variables\n",
    "x_opt = opti.value(x)\n",
    "u_opt = opti.value(u)\n",
    "\n",
    "\n"
   ]
  },
  {
   "cell_type": "code",
   "execution_count": 349,
   "id": "02c6d186-9efd-4dcd-a13e-9fcda1dcc873",
   "metadata": {},
   "outputs": [
    {
     "data": {
      "text/plain": [
       "[<matplotlib.lines.Line2D at 0x7f2fa33a2110>]"
      ]
     },
     "execution_count": 349,
     "metadata": {},
     "output_type": "execute_result"
    },
    {
     "data": {
      "image/png": "[encoded data removed]",
      "text/plain": [
       "<Figure size 640x480 with 1 Axes>"
      ]
     },
     "metadata": {},
     "output_type": "display_data"
    }
   ],
   "source": [
    "x_opt = opti.value(x)\n",
    "u_opt = opti.value(u)\n",
    "p_opt = opti.value(p)\n",
    "\n",
    "plt.plot(x_opt[0,:])"
   ]
  },
  {
   "cell_type": "code",
   "execution_count": 350,
   "id": "18ad6e32-6758-49fe-91f4-0ad210f3bbf9",
   "metadata": {},
   "outputs": [
    {
     "name": "stdout",
     "output_type": "stream",
     "text": [
      "[2.51625256 2.55069512 2.53400884 2.51740809 2.50643144 2.50113528\n",
      " 2.49852353 2.49673907 2.49529414 2.49415253 2.49331835 2.49268008\n",
      " 2.49184951 2.49004943 2.48597894 2.47758614 2.46386852 2.44296695\n",
      " 2.40320915 2.37990188]\n"
     ]
    },
    {
     "data": {
      "image/png": "[encoded data removed]",
      "text/plain": [
       "<Figure size 640x480 with 1 Axes>"
      ]
     },
     "metadata": {},
     "output_type": "display_data"
    }
   ],
   "source": [
    "plt.plot(u_opt[1,:])\n",
    "print(u_opt[2,:])"
   ]
  },
  {
   "cell_type": "code",
   "execution_count": null,
   "id": "a03017a6-94e3-4d74-92b5-a2b8839e6a75",
   "metadata": {},
   "outputs": [],
   "source": []
  }
 ],
 "metadata": {
  "kernelspec": {
   "display_name": "Python 3 (ipykernel)",
   "language": "python",
   "name": "python3"
  },
  "language_info": {
   "codemirror_mode": {
    "name": "ipython",
    "version": 3
   },
   "file_extension": ".py",
   "mimetype": "text/x-python",
   "name": "python",
   "nbconvert_exporter": "python",
   "pygments_lexer": "ipython3",
   "version": "3.11.4"
  }
 },
 "nbformat": 4,
 "nbformat_minor": 5
}
