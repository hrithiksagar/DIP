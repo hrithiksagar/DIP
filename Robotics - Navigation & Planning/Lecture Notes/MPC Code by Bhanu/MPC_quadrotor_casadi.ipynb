{
 "cells": [
  {
   "cell_type": "code",
   "execution_count": 1,
   "id": "b76b15f7-f18d-45dd-8bbb-b440471f15c0",
   "metadata": {},
   "outputs": [
    {
     "data": {
      "text/plain": [
       "MX(vertcat((33.3333*(((0.5*(((u[0]-u[1])-u[2])+u[3]))/1.41421)+((-0.03*w[1])*w[2]))), (33.3333*(((0.5*((((-u[0])-u[1])+u[2])+u[3]))/1.41421)+((0.03*w[2])*w[0]))), (16.6667*(0.01*(((u[0]-u[1])+u[2])-u[3])))))"
      ]
     },
     "execution_count": 1,
     "metadata": {},
     "output_type": "execute_result"
    }
   ],
   "source": [
    "import casadi as ca\n",
    "import numpy as np\n",
    "import matplotlib.pyplot as plt\n",
    "\n",
    "pos     = ca.MX.sym('pos', 3)\n",
    "q       = ca.MX.sym('q', 4)\n",
    "vel     = ca.MX.sym('vel', 3)\n",
    "w       = ca.MX.sym('w', 3)\n",
    "u       = ca.MX.sym('u', 4)\n",
    "aero_drag = 0.8\n",
    "m = 1.0\n",
    "payload_mass = 0.01\n",
    "drag =1\n",
    "\n",
    "l = 0.5  #arm length\n",
    "k = 0.01  # moment constant\n",
    "\n",
    "# Moments of inertia\n",
    "J1, J2, J3 = 0.03, 0.03, 0.06\n",
    "\n",
    "# Create a CasADi diagonal matrix for J\n",
    "J = ca.diag([J1, J2, J3])\n",
    "\n",
    "# Define the skew-symmetric matrix function\n",
    "skew_symmetric_matrix = ca.vertcat(\n",
    "    ca.horzcat(0, -w[2], w[1], w[0]),\n",
    "    ca.horzcat(w[2], 0, -w[0], w[1]),\n",
    "    ca.horzcat(-w[1], w[0], 0, -w[2]),\n",
    "    ca.horzcat(-w[0], -w[1], w[2], 0)\n",
    ")\n",
    "\n",
    "# Create a CasADi Function object for the 4x4 skew-symmetric matrix\n",
    "skew_symmetric_func_4x4 = ca.Function('skew_symmetric_func_4x4', [w], [skew_symmetric_matrix])\n",
    "\n",
    "pos_dot = vel\n",
    "\n",
    "qw = q[0]\n",
    "qx = q[1]\n",
    "qy = q[2]\n",
    "qz = q[3]\n",
    "\n",
    "# Define the elements of the rotation matrix\n",
    "r11 = 1 - 2*qy**2 - 2*qz**2\n",
    "r12 = 2*qx*qy - 2*qz*qw\n",
    "r13 = 2*qx*qz + 2*qy*qw\n",
    "\n",
    "r21 = 2*qx*qy + 2*qz*qw\n",
    "r22 = 1 - 2*qx**2 - 2*qz**2\n",
    "r23 = 2*qy*qz - 2*qx*qw\n",
    "\n",
    "r31 = 2*qx*qz - 2*qy*qw\n",
    "r32 = 2*qy*qz + 2*qx*qw\n",
    "r33 = 1 - 2*qx**2 - 2*qy**2\n",
    "\n",
    "# Create a CasADi MX matrix for the rotation matrix\n",
    "rot_matrix = ca.vertcat(\n",
    "    ca.horzcat(r11, r12, r13),\n",
    "    ca.horzcat(r21, r22, r23),\n",
    "    ca.horzcat(r31, r32, r33)\n",
    ")\n",
    "\n",
    "a_thrust  = ca.vertcat(0, 0, ca.sum1(u)) / m\n",
    "if(drag == 1):\n",
    "    v_b = ca.mtimes(rot_matrix.T, vel)\n",
    "    a_drag = -aero_drag * v_b**2 * ca.sign(v_b)/m\n",
    "    rotor_drag_xy = 0.3\n",
    "    rotor_drag_z = 0.0\n",
    "    rotor_drag = ca.vertcat([rotor_drag_xy, rotor_drag_xy, rotor_drag_z])\n",
    "    a_drag += -rotor_drag * v_b/m\n",
    "\n",
    "    a_drag_world = ca.mtimes(rot_matrix,a_drag)\n",
    "else:\n",
    "    a_drag_world = ca.vertcat(0, 0, 0)\n",
    "\n",
    "gravity   = ca.vertcat(0, 0, 9.81)\n",
    "a_payload = -payload_mass * gravity/m\n",
    "\n",
    "\n",
    "vel_dot = -gravity + ca.mtimes(rot_matrix,a_thrust) + a_payload + a_drag_world\n",
    "# Attitude dynamics\n",
    "q_dot = 0.5 * ca.mtimes(skew_symmetric_func_4x4(w), q)\n",
    "\n",
    "n = ca.vertcat( (l*(u[0] - u[1] - u[2] + u[3])/2**0.5), (l*(-u[0] - u[1] + u[2] + u[3])/2**0.5) , (k*(u[0] - u[1] + u[2] - u[3])))\n",
    "\n",
    "w_dot = ca.vertcat(\n",
    "        1 / J1 * (n[0] + (J2 - J3) * w[1] * w[2]),\n",
    "        1 / J2 * (n[1] + (J3 - J1) * w[2] * w[0]),\n",
    "        1 / J3 * (n[2] + (J1 - J2) * w[0] * w[1])\n",
    "    )\n",
    "w_dot"
   ]
  },
  {
   "cell_type": "code",
   "execution_count": 2,
   "id": "b7ab55b6-cdf0-442c-93ee-e6bc0467ddab",
   "metadata": {},
   "outputs": [],
   "source": [
    "state = ca.vertcat(pos, q, vel, w)\n",
    "state_dot = ca.vertcat(pos_dot, q_dot, vel_dot, w_dot) # derivative of state vector\n",
    "\n",
    "dynamics_func = ca.Function('dynamics_func', [state, u], [state_dot]) # in casADI we create funs like this 3rd arg is output\n",
    "\n",
    "\n",
    "initial_state = ca.vertcat([0.0, 0.0, 0.0], [1.0, 0.0, 0.0, 0.0], [0.0, 0.0, 0.0], [0.0, 0.0, 0.0])\n"
   ]
  },
  {
   "cell_type": "code",
   "execution_count": 3,
   "id": "2ecb5cac-ab1a-4328-a1da-49459b355340",
   "metadata": {},
   "outputs": [
    {
     "name": "stderr",
     "output_type": "stream",
     "text": [
      "CasADi - 2024-02-20 22:10:45 WARNING(\"The options 't0', 'tf', 'grid' and 'output_t0' have been deprecated.\n",
      "The same functionality is provided by providing additional input arguments to the 'integrator' function, in particular:\n",
      " * Call integrator(..., t0, tf, options) for a single output time, or\n",
      " * Call integrator(..., t0, grid, options) for multiple grid points.\n",
      "The legacy 'output_t0' option can be emulated by including or excluding 't0' in 'grid'.\n",
      "Backwards compatibility is provided in this release only.\") [.../casadi/core/integrator.cpp:521]\n"
     ]
    }
   ],
   "source": [
    "T = 5\n",
    "N = 20\n",
    "# creating integrator, runge-kutta 4th order \n",
    "intg_options = {}\n",
    "intg_options['tf'] = T/N\n",
    "intg_options['simplify'] = True\n",
    "intg_options['number_of_finite_elements'] = 10\n",
    "\n",
    "ode = {}\n",
    "ode['x'] = state\n",
    "ode['u'] = u\n",
    "ode['ode'] = dynamics_func(state, u)\n",
    "\n",
    "intg = ca.integrator('intg', 'rk', ode, intg_options) # rk =runge-kutta\n",
    "\n",
    "ini_u = ca.vertcat(5,1,1,1)"
   ]
  },
  {
   "cell_type": "code",
   "execution_count": 4,
   "id": "0527ac49-b30b-4908-b983-204e5f6dcd19",
   "metadata": {},
   "outputs": [
    {
     "name": "stdout",
     "output_type": "stream",
     "text": [
      "(20, 4)\n",
      "(20, 4)\n"
     ]
    }
   ],
   "source": [
    "res = intg(x0 = state, u= u)\n",
    "next_state = res['xf'] \n",
    "\n",
    "# print(state.type)\n",
    "F = ca.Function('F',[state,u],[next_state],['state','u'],['next_state'])\n",
    "sim = F.mapaccum(N)\n",
    "u_values = np.random.uniform(0, 5, (N, 4))\n",
    "print(u_values.shape)\n",
    "u_values = np.zeros((N,4))\n",
    "\n",
    "print(u_values.shape)"
   ]
  },
  {
   "cell_type": "code",
   "execution_count": 11,
   "id": "371a4085-a1e3-4f75-954b-7cd1cfb1e2c9",
   "metadata": {},
   "outputs": [
    {
     "name": "stdout",
     "output_type": "stream",
     "text": [
      "(13, 21)\n"
     ]
    },
    {
     "data": {
      "text/plain": [
       "[<matplotlib.lines.Line2D at 0x132447da0>]"
      ]
     },
     "execution_count": 11,
     "metadata": {},
     "output_type": "execute_result"
    },
    {
     "data": {
      "image/png": "[encoded data removed]",
      "text/plain": [
       "<Figure size 640x480 with 1 Axes>"
      ]
     },
     "metadata": {},
     "output_type": "display_data"
    }
   ],
   "source": [
    "x0 = initial_state\n",
    "res = sim(x0,u_values.T)\n",
    "\n",
    "plt.figure\n",
    "tgrid = ca.linspace(0,T,N+1)\n",
    "i = 10\n",
    "full = ca.horzcat(x0,res)\n",
    "print(full.shape)\n",
    "plt.plot(tgrid,full[i,:].T)\n",
    "tgrid = ca.linspace(0,T,N)\n",
    "plt.plot(tgrid,res[i,:].T)\n",
    "# plt.plot(tgrid,res[1,:].T)\n",
    "# plt.plot(tgrid,res[2,:].T)\n",
    "# plt.plot(res[2,:10])\n",
    "# print(res[2,:10])"
   ]
  },
  {
   "cell_type": "code",
   "execution_count": 14,
   "id": "cbf9ef06-fad1-4326-9149-4b364adf1ead",
   "metadata": {},
   "outputs": [
    {
     "name": "stdout",
     "output_type": "stream",
     "text": [
      "(1, 20)\n",
      "(20, 80)\n",
      "(1, 20)\n"
     ]
    }
   ],
   "source": [
    "U = ca.MX.sym('U',4,N)\n",
    "X1 = sim(x0,U)[1,:]\n",
    "print(X1.shape)\n",
    "J = ca.jacobian(X1,U)\n",
    "print(J.shape)\n",
    "print(X1.shape)"
   ]
  },
  {
   "cell_type": "code",
   "execution_count": 15,
   "id": "376d123d-9b20-4d59-ab94-dc4cda6f9f07",
   "metadata": {},
   "outputs": [
    {
     "data": {
      "text/plain": [
       "<matplotlib.image.AxesImage at 0x117559d00>"
      ]
     },
     "execution_count": 15,
     "metadata": {},
     "output_type": "execute_result"
    },
    {
     "data": {
      "image/png": "[encoded data removed]",
      "text/plain": [
       "<Figure size 640x480 with 1 Axes>"
      ]
     },
     "metadata": {},
     "output_type": "display_data"
    }
   ],
   "source": [
    "Jf = ca.Function('Jf',[U],[J])\n",
    "u_values = np.random.uniform(0, 5, (N, 4))\n",
    "plt.imshow(Jf(u_values.T).full())"
   ]
  },
  {
   "cell_type": "code",
   "execution_count": 21,
   "id": "b3eefb75-fc3e-4d54-a8d5-9df8bac8fa77",
   "metadata": {},
   "outputs": [
    {
     "data": {
      "text/plain": [
       "DM(\n",
       "[[-0.00662904, 0.0094007, 0.00720241, ..., 00, 00, 00], \n",
       " [-0.161106, 0.123856, 0.167463, ..., 00, 00, 00], \n",
       " [-0.382233, 0.338962, 0.382346, ..., 00, 00, 00], \n",
       " ...,\n",
       " [-2.56172, 0.775916, 3.63053, ..., 00, 00, 00], \n",
       " [-3.33013, 0.4842, 4.55911, ..., 00, 00, 00], \n",
       " [-4.10765, 0.182817, 5.54563, ..., 0.0150092, 0.0126825, 0.0119854]])"
      ]
     },
     "execution_count": 21,
     "metadata": {},
     "output_type": "execute_result"
    }
   ],
   "source": [
    "Jf(u_values.T)"
   ]
  },
  {
   "cell_type": "code",
   "execution_count": 352,
   "id": "9636c0b3-faa7-4e2d-bd79-6f4ab3fd8bd4",
   "metadata": {},
   "outputs": [
    {
     "name": "stdout",
     "output_type": "stream",
     "text": [
      "This is Ipopt version 3.14.11, running with linear solver MUMPS 5.4.1.\n",
      "\n",
      "Number of nonzeros in equality constraint Jacobian...:     3286\n",
      "Number of nonzeros in inequality constraint Jacobian.:       80\n",
      "Number of nonzeros in Lagrangian Hessian.............:     2173\n",
      "\n",
      "Total number of variables............................:      353\n",
      "                     variables with only lower bounds:        0\n",
      "                variables with lower and upper bounds:        0\n",
      "                     variables with only upper bounds:        0\n",
      "Total number of equality constraints.................:      286\n",
      "Total number of inequality constraints...............:       80\n",
      "        inequality constraints with only lower bounds:        0\n",
      "   inequality constraints with lower and upper bounds:       80\n",
      "        inequality constraints with only upper bounds:        0\n",
      "\n",
      "iter    objective    inf_pr   inf_du lg(mu)  ||d||  lg(rg) alpha_du alpha_pr  ls\n",
      "   0  0.0000000e+00 2.14e+00 0.00e+00  -1.0 0.00e+00    -  0.00e+00 0.00e+00   0\n",
      "   1  6.5746541e+02 3.68e-01 4.55e+02  -1.0 2.89e+00    -  3.55e-03 1.00e+00h  1\n",
      "   2  5.1061095e+02 7.25e-03 7.70e+01  -1.0 4.95e-01    -  8.34e-01 1.00e+00f  1\n",
      "   3  5.1187585e+02 9.00e-04 1.36e+00  -1.0 1.67e-01    -  1.00e+00 1.00e+00h  1\n",
      "   4  5.1188049e+02 1.08e-03 2.18e-02  -1.0 8.73e-02    -  1.00e+00 1.00e+00h  1\n",
      "   5  5.1185223e+02 1.44e-07 5.62e-03  -2.5 8.85e-04   0.0 1.00e+00 1.00e+00h  1\n",
      "   6  5.1185223e+02 2.09e-08 1.44e-04  -3.8 3.24e-04  -0.5 1.00e+00 1.00e+00h  1\n",
      "   7  5.1185223e+02 1.23e-09 3.05e-04  -5.7 8.67e-05  -1.0 1.00e+00 1.00e+00h  1\n",
      "   8  5.1185223e+02 2.34e-10 2.65e-09  -5.7 3.52e-05    -  1.00e+00 1.00e+00h  1\n",
      "   9  5.1185223e+02 2.70e-15 5.79e-10  -8.6 1.38e-10   0.4 1.00e+00 1.00e+00h  1\n",
      "\n",
      "Number of Iterations....: 9\n",
      "\n",
      "                                   (scaled)                 (unscaled)\n",
      "Objective...............:   5.1185222805000012e+02    5.1185222805000012e+02\n",
      "Dual infeasibility......:   5.7875625329756928e-10    5.7875625329756928e-10\n",
      "Constraint violation....:   2.6955391421332974e-15    2.6955391421332974e-15\n",
      "Variable bound violation:   0.0000000000000000e+00    0.0000000000000000e+00\n",
      "Complementarity.........:   2.5059036427602383e-09    2.5059036427602383e-09\n",
      "Overall NLP error.......:   2.5059036427602383e-09    2.5059036427602383e-09\n",
      "\n",
      "\n",
      "Number of objective function evaluations             = 10\n",
      "Number of objective gradient evaluations             = 10\n",
      "Number of equality constraint evaluations            = 10\n",
      "Number of inequality constraint evaluations          = 10\n",
      "Number of equality constraint Jacobian evaluations   = 10\n",
      "Number of inequality constraint Jacobian evaluations = 10\n",
      "Number of Lagrangian Hessian evaluations             = 9\n",
      "Total seconds in IPOPT                               = 3.826\n",
      "\n",
      "EXIT: Optimal Solution Found.\n",
      "      solver  :   t_proc      (avg)   t_wall      (avg)    n_eval\n",
      "       nlp_f  |  36.00us (  3.60us)  35.68us (  3.57us)        10\n",
      "       nlp_g  |  40.21ms (  4.02ms)  40.03ms (  4.00ms)        10\n",
      "  nlp_grad_f  |  48.00us (  4.36us)  45.46us (  4.13us)        11\n",
      "  nlp_hess_l  |   2.85 s (316.61ms)   2.84 s (315.76ms)         9\n",
      "   nlp_jac_g  | 919.82ms ( 83.62ms) 917.50ms ( 83.41ms)        11\n",
      "       total  |   3.86 s (  3.86 s)   3.85 s (  3.85 s)         1\n"
     ]
    }
   ],
   "source": [
    "\n",
    "opti = ca.Opti()\n",
    "x = opti.variable(13,N+1) # 13 control inputs, N+1 states\n",
    "u = opti.variable(4,N)\n",
    "p = opti.parameter(13,1)\n",
    "\n",
    "\n",
    "cost = ca.sumsqr(x)+ca.sumsqr(u) #least control input\n",
    "opti.minimize(cost) # for collision avoidance need another maximizer should be added to cost function\n",
    "\n",
    "# equality constraints - adding state transition constriants, here F is state transition constarint\n",
    "for k in range(N):\n",
    "\n",
    "    opti.subject_to(x[:,k+1] == F(x[:,k],u[:,k]))\n",
    "\n",
    "opti.subject_to(x[:, 20] == p) # 20th step \n",
    "opti.subject_to(x[:, 0] == p) # 0 is initial step, can put diff value to p \n",
    "\n",
    "#inequality constraints\n",
    "opti.subject_to(opti.bounded(0, u, 5)) # motor can produce only +ve thrust so bounded between 0,5\n",
    " \n",
    "opti.set_value(p, initial_state) # p is parameter, given to optimizer\n",
    "\n",
    "opti.solver('ipopt')  # Choose your solver # used for nonlinear progr\n",
    "opti.solve()\n",
    "\n",
    "# Retrieve the optimized variables\n",
    "x_opt = opti.value(x)\n",
    "u_opt = opti.value(u)\n",
    "\n",
    "\n"
   ]
  },
  {
   "cell_type": "code",
   "execution_count": 33,
   "id": "181180bc",
   "metadata": {},
   "outputs": [
    {
     "name": "stdout",
     "output_type": "stream",
     "text": [
      "This is Ipopt version 3.14.11, running with linear solver MUMPS 5.4.1.\n",
      "\n",
      "Number of nonzeros in equality constraint Jacobian...:     3286\n",
      "Number of nonzeros in inequality constraint Jacobian.:       80\n",
      "Number of nonzeros in Lagrangian Hessian.............:     2173\n",
      "\n",
      "Total number of variables............................:      353\n",
      "                     variables with only lower bounds:        0\n",
      "                variables with lower and upper bounds:        0\n",
      "                     variables with only upper bounds:        0\n",
      "Total number of equality constraints.................:      286\n",
      "Total number of inequality constraints...............:       80\n",
      "        inequality constraints with only lower bounds:        0\n",
      "   inequality constraints with lower and upper bounds:       80\n",
      "        inequality constraints with only upper bounds:        0\n",
      "\n",
      "iter    objective    inf_pr   inf_du lg(mu)  ||d||  lg(rg) alpha_du alpha_pr  ls\n",
      "   0  0.0000000e+00 3.00e+00 0.00e+00  -1.0 0.00e+00    -  0.00e+00 0.00e+00   0\n",
      "   1  8.5250160e+02 7.43e-01 9.18e+07  -1.0 4.15e+00    -  3.16e-03 1.00e+00h  1\n",
      "   2  8.1712034e+02 3.96e-01 4.85e+07  -1.0 4.85e-01   8.0 1.00e+00 1.00e+00f  1\n",
      "   3  6.5360433e+02 6.82e-02 7.22e+08  -1.0 1.15e+00   7.5 1.00e+00 1.00e+00f  1\n",
      "   4  6.5971646e+02 2.13e-03 1.02e+08  -1.0 7.31e-02   7.9 1.00e+00 1.00e+00h  1\n",
      "   5  6.5976289e+02 1.05e-06 1.80e+06  -1.0 1.33e-03   7.5 1.00e+00 1.00e+00h  1\n",
      "   6  6.5976298e+02 1.65e-11 5.86e+04  -2.5 1.28e-05   7.0 1.00e+00 1.00e+00h  1\n",
      "   7  6.5976296e+02 1.69e-12 3.92e+02  -3.8 5.08e-07   6.5 1.00e+00 1.00e+00f  1\n",
      "   8  6.5976288e+02 1.36e-12 1.84e+02  -5.7 1.52e-06   6.0 1.00e+00 1.00e+00f  1\n",
      "   9  6.5976288e+02 3.77e-08 1.16e+02  -5.7 7.75e-08   9.2 1.00e+00 1.00e+00h  1\n",
      "iter    objective    inf_pr   inf_du lg(mu)  ||d||  lg(rg) alpha_du alpha_pr  ls\n",
      "  10  6.5976275e+02 1.37e-10 8.71e+06  -5.7 3.41e-05   8.7 1.00e+00 1.00e+00h  1\n",
      "  11r 6.5976275e+02 1.37e-10 3.71e+01  -5.7 0.00e+00  11.8 0.00e+00 4.77e-07R 22\n",
      "  12r 6.5965056e+02 1.44e-05 2.75e-07  -5.7 1.55e-02    -  1.00e+00 1.00e+00f  1\n",
      "  13r 6.5974778e+02 1.06e-05 5.32e-05  -8.6 1.29e-02    -  9.99e-01 1.00e+00h  1\n",
      "  14r 6.5975350e+02 4.15e-08 4.99e-10  -8.6 9.00e-04    -  1.00e+00 1.00e+00h  1\n",
      "  15r 6.5975757e+02 2.56e-08 8.62e-07  -8.6 9.02e-04    -  1.00e+00 1.00e+00h  1\n",
      "  16r 6.5975761e+02 3.34e-12 3.46e-13  -8.6 1.23e-05    -  1.00e+00 1.00e+00h  1\n",
      "  17  6.2996287e+02 2.08e-01 1.18e+02  -5.7 1.25e+00    -  1.92e-01 1.00e+00f  1\n",
      "  18  6.3152858e+02 1.57e-01 3.01e+02  -5.7 2.77e+00    -  1.00e+00 2.50e-01h  3\n",
      "  19  6.3992955e+02 5.13e-02 5.11e+01  -5.7 5.71e-01    -  8.96e-01 1.00e+00h  1\n",
      "iter    objective    inf_pr   inf_du lg(mu)  ||d||  lg(rg) alpha_du alpha_pr  ls\n",
      "  20  6.4321794e+02 5.83e-03 1.58e+01  -5.7 3.85e-01    -  1.00e+00 1.00e+00h  1\n",
      "  21  6.4304860e+02 1.19e-03 9.71e+01  -5.7 1.55e-01    -  1.00e+00 1.00e+00f  1\n",
      "Warning: SOC step rejected due to evaluation error\n",
      "  22  6.4296623e+02 3.73e-03 8.08e+02  -5.7 6.98e-01    -  1.00e+00 2.50e-01f  3\n",
      "  23  6.4282143e+02 2.52e-05 7.24e+11  -5.7 1.56e-02  11.4 1.00e+00 1.00e+00h  1\n"
     ]
    },
    {
     "name": "stderr",
     "output_type": "stream",
     "text": [
      "CasADi - 2024-02-20 14:52:53 WARNING(\"solver:nlp_g failed: NaN detected for output g, at (row 78, col 0).\") [.../casadi/core/oracle_function.cpp:377]\n"
     ]
    },
    {
     "name": "stdout",
     "output_type": "stream",
     "text": [
      "  24  6.4282159e+02 2.38e-10 1.45e+08  -5.7 9.14e-05  10.9 1.00e+00 1.00e+00h  1\n",
      "  25  6.4282159e+02 2.36e-10 1.45e+08  -5.7 1.99e-07  14.9 1.00e+00 3.05e-05h 16\n",
      "  26r 6.4282159e+02 2.36e-10 6.36e+01  -5.7 0.00e+00  14.4 0.00e+00 4.77e-07R 22\n",
      "  27r 6.4282169e+02 9.20e-07 3.66e-06  -5.7 3.73e-03    -  1.00e+00 1.00e+00f  1\n",
      "  28r 6.4282160e+02 9.01e-07 3.65e-06  -8.6 3.68e-03    -  1.00e+00 1.00e+00h  1\n",
      "  29r 6.4282159e+02 6.54e-10 6.19e-09  -8.6 8.66e-05    -  1.00e+00 1.00e+00h  1\n",
      "iter    objective    inf_pr   inf_du lg(mu)  ||d||  lg(rg) alpha_du alpha_pr  ls\n",
      "  30  6.4273763e+02 1.44e-03 2.98e+00  -5.7 1.38e-01    -  1.00e+00 1.00e+00f  1\n",
      "  31  6.4271743e+02 2.02e-03 5.73e+02  -5.7 2.78e-01    -  1.00e+00 5.00e-01f  2\n",
      "  32  6.4265101e+02 2.92e-06 1.46e+14  -5.7 7.60e-03  14.0 1.00e+00 1.00e+00h  1\n",
      "  33  6.4265126e+02 2.61e-08 4.13e+13  -5.7 6.40e-04  13.5 1.00e+00 1.00e+00h  1\n",
      "  34  6.4265127e+02 6.40e-11 5.21e+12  -5.7 4.23e-05  13.0 1.00e+00 1.00e+00h  1\n",
      "  35  6.4265127e+02 6.37e-11 4.49e+12  -5.7 1.67e-04  12.5 1.00e+00 2.50e-01h  3\n",
      "  36  6.4265127e+02 6.42e-11 4.49e+12  -5.7 2.13e-06  18.4 1.00e+00 9.54e-07h 21\n",
      "  37  6.4265127e+02 5.67e-11 7.72e+15  -5.7 4.14e-05  17.9 1.00e+00 1.25e-01h  4\n",
      "  38  6.4265128e+02 4.66e-11 6.90e+16  -5.7 6.04e-05  17.4 1.00e+00 5.00e-01h  2\n",
      "  39  6.4265128e+02 4.88e-11 6.47e+16  -5.7 1.66e-04  16.9 1.00e+00 1.25e-01h  4\n",
      "WARNING: Problem in step computation; switching to emergency mode.\n",
      "iter    objective    inf_pr   inf_du lg(mu)  ||d||  lg(rg) alpha_du alpha_pr  ls\n",
      "  40r 6.4265128e+02 4.88e-11 1.32e+01  -5.7 0.00e+00  19.2 0.00e+00 0.00e+00R  1\n",
      "  41r 6.4265110e+02 9.20e-07 2.90e-05  -5.7 3.73e-03    -  1.00e+00 1.00e+00f  1\n",
      "  42r 6.4265129e+02 9.01e-07 8.39e-05  -8.6 3.68e-03    -  1.00e+00 1.00e+00h  1\n",
      "  43r 6.4265128e+02 6.51e-10 2.72e-04  -8.6 2.03e-04    -  1.00e+00 1.00e+00h  1\n",
      "  44r 6.4265128e+02 6.31e-10 1.62e+02  -8.6 1.15e-03    -  1.00e+00 3.12e-02h  6\n",
      "  45r 6.4265128e+02 2.13e-11 7.20e-08  -8.6 8.67e-06    -  1.00e+00 1.00e+00h  1\n",
      "  46  6.4261708e+02 3.28e-04 1.56e+00  -5.7 5.58e-02    -  1.00e+00 1.00e+00f  1\n",
      "  47  6.4261767e+02 1.68e-05 2.57e+02  -5.7 3.67e-02    -  1.00e+00 1.00e+00h  1\n",
      "  48  6.4261462e+02 3.05e-04 7.30e+02  -5.7 5.86e-02    -  1.00e+00 1.00e+00f  1\n",
      "  49  6.4260508e+02 9.60e-05 1.91e+02  -5.7 3.06e-02    -  1.00e+00 1.00e+00h  1\n",
      "iter    objective    inf_pr   inf_du lg(mu)  ||d||  lg(rg) alpha_du alpha_pr  ls\n",
      "  50  6.4260222e+02 3.59e-05 3.96e+01  -5.7 2.17e-02    -  1.00e+00 1.00e+00h  1\n",
      "  51  6.4260168e+02 1.26e-06 2.76e+00  -5.7 3.55e-03    -  1.00e+00 1.00e+00h  1\n",
      "  52  6.4260168e+02 1.26e-06 1.81e+04  -5.7 4.52e-16  19.6 1.00e+00 1.00e+00   0\n",
      "  53  6.4260168e+02 1.26e-06 3.63e+04  -5.7 2.71e-15  19.1 1.00e+00 1.00e+00h  1\n",
      "  54  6.4260168e+02 1.26e-06 5.44e+04  -5.7 1.22e-14  18.6 1.00e+00 1.00e+00h  1\n",
      "  55  6.4260168e+02 1.26e-06 7.26e+04  -5.7 4.88e-14  18.2 1.00e+00 1.00e+00h  1\n",
      "  56  6.4260168e+02 1.26e-06 7.31e+04  -5.7 5.49e-13  17.2 1.00e+00 3.12e-02h  6\n",
      "  57  6.4260168e+02 1.26e-06 9.13e+04  -5.7 4.97e-12  16.3 1.00e+00 1.00e+00h  1\n",
      "  58  6.4260168e+02 1.26e-06 1.09e+05  -5.7 5.37e-11  15.3 1.00e+00 1.00e+00h  1\n",
      "  59  6.4260168e+02 2.19e-07 1.05e+17  -5.7 1.58e-03  14.8 1.00e+00 1.00e+00h  1\n",
      "WARNING: Problem in step computation; switching to emergency mode.\n",
      "iter    objective    inf_pr   inf_du lg(mu)  ||d||  lg(rg) alpha_du alpha_pr  ls\n",
      "  60r 6.4260168e+02 2.19e-07 9.92e+02  -5.7 0.00e+00  19.8 0.00e+00 0.00e+00R  1\n",
      "  61r 6.4260169e+02 5.50e-08 1.43e+01  -5.7 3.73e-03    -  1.00e+00 8.39e-03f  1\n",
      "  62  6.4260142e+02 9.06e-07 9.91e-02  -5.7 2.40e-03    -  1.00e+00 1.00e+00h  1\n",
      "  63  6.4260164e+02 2.33e-07 9.70e-06  -5.7 1.30e-03    -  1.00e+00 1.00e+00h  1\n",
      "  64  6.4260168e+02 2.14e-07 5.58e+02  -8.6 1.17e-03    -  1.00e+00 1.00e+00h  1\n",
      "WARNING: Problem in step computation; switching to emergency mode.\n",
      "  65r 6.4260168e+02 2.14e-07 9.99e+02  -6.7 0.00e+00    -  0.00e+00 0.00e+00R  1\n",
      "  66r 6.4260168e+02 4.80e-08 5.70e+01  -6.7 1.29e-03    -  1.00e+00 9.90e-04f  1\n",
      "  67  6.4260167e+02 7.37e-08 3.94e+02  -8.6 8.25e-04    -  1.00e+00 1.00e+00h  1\n",
      "  68  6.4260167e+02 7.37e-08 4.92e+03  -8.6 2.80e-16  19.2 1.00e+00 1.00e+00   0\n",
      "  69  6.4260167e+02 7.37e-08 9.83e+03  -8.6 5.03e-15  18.3 1.00e+00 1.00e+00h  1\n",
      "iter    objective    inf_pr   inf_du lg(mu)  ||d||  lg(rg) alpha_du alpha_pr  ls\n",
      "  70  6.4260167e+02 7.37e-08 1.47e+04  -8.6 6.78e-14  17.3 1.00e+00 1.00e+00h  1\n",
      "  71  6.4260167e+02 7.37e-08 1.96e+04  -8.6 2.71e-13  16.9 1.00e+00 1.00e+00h  1\n",
      "  72  6.4260167e+02 7.37e-08 2.45e+04  -8.6 1.02e-12  16.4 1.00e+00 1.00e+00h  1\n",
      "  73  6.4260167e+02 7.37e-08 2.94e+04  -8.6 3.66e-12  15.9 1.00e+00 1.00e+00h  1\n",
      "  74  6.4260167e+02 7.36e-08 3.43e+04  -8.6 1.28e-11  15.4 1.00e+00 1.00e+00h  1\n",
      "  75  6.4260167e+02 7.34e-08 3.92e+04  -8.6 4.39e-11  15.0 1.00e+00 1.00e+00h  1\n",
      "  76  6.4260167e+02 7.26e-08 4.40e+04  -8.6 1.48e-10  14.5 1.00e+00 1.00e+00h  1\n",
      "  77  6.4260167e+02 7.01e-08 4.87e+04  -8.6 4.90e-10  14.0 1.00e+00 1.00e+00h  1\n",
      "  78  6.4260168e+02 3.57e-10 9.93e+13  -8.6 8.13e-05  13.5 1.00e+00 1.00e+00h  1\n",
      "  79  6.4260168e+02 3.58e-10 9.93e+13  -8.6 4.31e-06  19.4 1.00e+00 9.54e-07h 21\n",
      "iter    objective    inf_pr   inf_du lg(mu)  ||d||  lg(rg) alpha_du alpha_pr  ls\n",
      "  80  6.4260168e+02 3.52e-10 6.63e+17  -8.6 1.12e-03  18.9 1.00e+00 1.56e-02h  7\n",
      "  81  6.4260168e+02 5.04e-10 1.20e+19  -8.6 1.58e-04  18.4 1.00e+00 1.00e+00h  1\n",
      "WARNING: Problem in step computation; switching to emergency mode.\n",
      "  82r 6.4260168e+02 5.04e-10 9.95e+02  -8.6 0.00e+00  19.7 0.00e+00 0.00e+00R  1\n",
      "  83r 6.4260168e+02 1.26e-10 5.50e+01  -8.6 6.12e-04    -  1.00e+00 4.94e-03f  1\n",
      "  84  6.4260162e+02 2.13e-07 5.42e-02  -8.6 1.26e-03    -  1.00e+00 1.00e+00h  1\n",
      "  85  6.4260166e+02 3.25e-08 1.39e-05  -8.6 1.04e-03    -  1.00e+00 1.00e+00h  1\n",
      "  86  6.4260167e+02 1.72e-08 6.11e+01  -8.6 3.42e-04    -  1.00e+00 1.00e+00h  1\n",
      "WARNING: Problem in step computation; switching to emergency mode.\n",
      "  87r 6.4260167e+02 1.72e-08 9.99e+02  -7.8 0.00e+00    -  0.00e+00 0.00e+00R  1\n",
      "  88r 6.4260166e+02 3.17e-09 1.43e+02  -7.8 5.71e-04    -  1.00e+00 9.90e-04f  1\n",
      "  89  6.4260166e+02 4.77e-10 2.96e+01  -8.6 1.73e-04    -  1.00e+00 1.00e+00h  1\n",
      "iter    objective    inf_pr   inf_du lg(mu)  ||d||  lg(rg) alpha_du alpha_pr  ls\n",
      "  90  6.4260166e+02 4.79e-10 2.96e+01  -8.6 2.05e-03    -  1.00e+00 1.95e-03h 10\n",
      "  91  6.4260166e+02 4.79e-10 2.96e+01  -8.6 6.07e-19  19.7 1.00e+00 1.00e+00   0\n",
      "  92  6.4260166e+02 4.79e-10 3.70e+01  -8.6 2.27e-18  19.2 1.00e+00 1.00e+00   0\n",
      "  93  6.4260167e+02 2.91e-10 2.61e+00  -8.6 8.70e-05    -  1.00e+00 1.00e+00h  1\n",
      "  94  6.4260167e+02 2.91e-10 1.37e+01  -8.6 2.53e-18  18.7 1.00e+00 1.00e+00   0\n",
      "  95  6.4260167e+02 2.69e-10 1.29e+01  -8.6 3.61e-04    -  1.00e+00 6.25e-02h  5\n",
      "  96  6.4260167e+02 2.69e-10 2.50e+01  -8.6 1.38e-17  18.3 1.00e+00 1.00e+00   0\n",
      "  97  6.4260167e+02 2.69e-10 3.70e+01  -8.6 6.15e-17  17.8 1.00e+00 1.00e+00   0\n",
      "  98  6.4260167e+02 2.69e-10 4.91e+01  -8.6 2.45e-16  17.3 1.00e+00 1.00e+00   0\n",
      "  99  6.4260167e+02 2.69e-10 6.12e+01  -8.6 9.15e-16  16.8 1.00e+00 1.00e+00   0\n",
      "iter    objective    inf_pr   inf_du lg(mu)  ||d||  lg(rg) alpha_du alpha_pr  ls\n",
      " 100  6.4260167e+02 2.69e-10 7.33e+01  -8.6 3.29e-15  16.3 1.00e+00 1.00e+00h  1\n",
      " 101  6.4260167e+02 2.13e-10 6.43e+01  -8.6 3.86e-04    -  1.00e+00 1.25e-01h  4\n",
      " 102  6.4260167e+02 1.98e-10 4.83e+01  -8.6 2.06e-04    -  1.00e+00 2.50e-01h  3\n",
      " 103  6.4260167e+02 1.99e-10 4.82e+01  -8.6 2.44e-03    -  1.00e+00 1.95e-03h 10\n",
      " 104  6.4260167e+02 1.99e-10 5.77e+01  -8.6 7.77e-15  15.9 1.00e+00 1.00e+00h  1\n",
      " 105  6.4260167e+02 1.99e-10 6.97e+01  -8.6 2.81e-14  15.4 1.00e+00 1.00e+00h  1\n",
      " 106  6.4260167e+02 1.98e-10 8.15e+01  -8.6 9.87e-14  14.9 1.00e+00 1.00e+00h  1\n",
      " 107  6.4260167e+02 1.96e-10 9.59e+01  -8.6 3.48e-13  14.4 1.00e+00 1.00e+00h  1\n",
      " 108  6.4260167e+02 1.90e-10 1.10e+02  -8.6 1.20e-12  14.0 1.00e+00 1.00e+00h  1\n",
      " 109  6.4260167e+02 1.96e-10 6.55e+00  -8.6 1.07e-04    -  1.00e+00 1.00e+00h  1\n",
      "iter    objective    inf_pr   inf_du lg(mu)  ||d||  lg(rg) alpha_du alpha_pr  ls\n",
      " 110  6.4260167e+02 1.94e-10 1.43e+01  -8.6 4.68e-13  13.5 1.00e+00 1.00e+00h  1\n",
      " 111  6.4260167e+02 1.80e-10 2.78e+01  -8.6 2.73e-12  13.0 1.00e+00 1.00e+00h  1\n",
      " 112  6.4260167e+02 1.79e-10 2.74e+01  -8.6 3.67e-04    -  1.00e+00 1.56e-02h  7\n",
      " 113  6.4260167e+02 1.24e-10 3.66e+01  -8.6 1.08e-11  12.5 1.00e+00 1.00e+00h  1\n",
      " 114  6.4260167e+02 1.24e-10 3.64e+01  -8.6 9.91e-04    -  1.00e+00 3.91e-03h  9\n",
      " 115  6.4260167e+02 1.24e-10 3.58e+01  -8.6 4.67e-04    -  1.00e+00 1.56e-02h  7\n",
      " 116  6.4260167e+02 1.23e-10 3.36e+01  -8.6 1.70e-04    -  1.00e+00 6.25e-02h  5\n",
      " 117  6.4260167e+02 6.06e-11 3.16e+01  -8.6 2.79e-11  12.1 1.00e+00 1.00e+00h  1\n",
      " 118  6.4260167e+02 5.54e-11 8.46e+00  -8.6 3.78e-11  11.6 1.00e+00 1.00e+00H  1\n",
      " 119  6.4260167e+02 7.75e-11 7.88e+00  -8.6 4.51e-04    -  1.00e+00 6.25e-02h  5\n",
      "iter    objective    inf_pr   inf_du lg(mu)  ||d||  lg(rg) alpha_du alpha_pr  ls\n",
      " 120  6.4260167e+02 7.79e-11 7.85e+00  -8.6 5.41e-04    -  1.00e+00 3.91e-03h  9\n",
      " 121  6.4260167e+02 7.80e-11 7.81e+00  -8.6 1.05e-03    -  1.00e+00 3.91e-03h  9\n",
      " 122  6.4260167e+02 7.80e-11 7.56e+00  -8.6 2.86e-04    -  1.00e+00 3.12e-02h  6\n",
      " 123  6.4260167e+02 7.98e-11 7.32e+00  -8.6 2.01e-04    -  1.00e+00 3.12e-02h  6\n",
      " 124  6.4260167e+02 5.83e-11 6.21e+00  -8.6 5.28e-11  11.1 1.00e+00 1.00e+00H  1\n",
      " 125  6.4260167e+02 4.84e-11 1.80e+00  -8.6 9.23e-11  10.6 1.00e+00 1.00e+00H  1\n",
      " 126  6.4260167e+02 4.03e-11 9.88e-01  -8.6 9.31e-11  10.1 1.00e+00 1.00e+00H  1\n",
      " 127  6.4260167e+02 4.03e-11 9.88e-01  -8.6 3.10e-04    -  1.00e+00 2.44e-04h 13\n",
      " 128  6.4260167e+02 4.03e-11 9.88e-01  -8.6 1.65e-04    -  1.00e+00 1.91e-06h 20\n",
      " 129  6.4260167e+02 2.01e-11 5.19e-01  -8.6 1.43e-10   9.7 1.00e+00 1.00e+00H  1\n",
      "iter    objective    inf_pr   inf_du lg(mu)  ||d||  lg(rg) alpha_du alpha_pr  ls\n",
      " 130  6.4260167e+02 3.09e-11 1.81e-01  -8.6 2.40e-10   9.2 1.00e+00 1.00e+00H  1\n",
      " 131  6.4260167e+02 2.30e-11 8.63e-02  -8.6 2.41e-10   8.7 1.00e+00 1.00e+00H  1\n",
      " 132  6.4260167e+02 3.09e-11 6.14e-02  -8.6 3.56e-10   8.2 1.00e+00 1.00e+00h  1\n",
      " 133  6.4260167e+02 4.82e-11 2.30e-02  -8.6 7.15e-10   7.8 1.00e+00 1.00e+00H  1\n",
      " 134  6.4260167e+02 4.82e-11 2.30e-02  -8.6 1.56e-02    -  1.00e+00 1.22e-04h 14\n",
      " 135  6.4260167e+02 4.21e-11 4.52e-03  -8.6 5.10e-10   7.3 1.00e+00 1.00e+00H  1\n",
      " 136  6.4260167e+02 1.64e-11 4.62e-03  -8.6 7.23e-10   6.8 1.00e+00 1.00e+00h  1\n",
      " 137  6.4260167e+02 1.64e-11 4.61e-03  -8.6 1.39e-03    -  1.00e+00 1.95e-03h 10\n",
      " 138  6.4260167e+02 3.83e-11 1.05e-03  -8.6 4.91e-10   6.3 1.00e+00 1.00e+00h  1\n",
      " 139  6.4260167e+02 1.53e-11 3.58e-04  -8.6 5.04e-10   5.9 1.00e+00 1.00e+00h  1\n",
      "iter    objective    inf_pr   inf_du lg(mu)  ||d||  lg(rg) alpha_du alpha_pr  ls\n",
      " 140  6.4260167e+02 1.52e-11 3.57e-04  -8.6 3.90e-04    -  1.00e+00 1.95e-03h 10\n",
      " 141  6.4260167e+02 1.52e-11 3.57e-04  -8.6 2.90e-03    -  1.00e+00 9.54e-07h 21\n",
      "\n",
      "Number of Iterations....: 141\n",
      "\n",
      "                                   (scaled)                 (unscaled)\n",
      "Objective...............:   6.4260166623772147e+02    6.4260166623772147e+02\n",
      "Dual infeasibility......:   3.5709457114465774e-04    3.5709457114465774e-04\n",
      "Constraint violation....:   1.5239581871030505e-11    1.5239581871030505e-11\n",
      "Variable bound violation:   0.0000000000000000e+00    0.0000000000000000e+00\n",
      "Complementarity.........:   2.5070327338399458e-09    2.5070327338399458e-09\n",
      "Overall NLP error.......:   1.4784296172102449e-07    3.5709457114465774e-04\n",
      "\n",
      "\n",
      "Number of objective function evaluations             = 534\n",
      "Number of objective gradient evaluations             = 128\n",
      "Number of equality constraint evaluations            = 535\n",
      "Number of inequality constraint evaluations          = 534\n",
      "Number of equality constraint Jacobian evaluations   = 145\n",
      "Number of inequality constraint Jacobian evaluations = 145\n",
      "Number of Lagrangian Hessian evaluations             = 142\n",
      "Total seconds in IPOPT                               = 27.174\n",
      "\n",
      "EXIT: Solved To Acceptable Level.\n",
      "      solver  :   t_proc      (avg)   t_wall      (avg)    n_eval\n",
      "       nlp_f  | 658.00us (  1.23us) 625.74us (  1.17us)       534\n",
      "       nlp_g  |   1.03 s (  1.92ms)   1.03 s (  1.92ms)       535\n",
      "  nlp_grad_f  | 323.00us (  2.50us) 311.29us (  2.41us)       129\n",
      "  nlp_hess_l  |  19.95 s (147.78ms)  19.96 s (147.82ms)       135\n",
      "   nlp_jac_g  |   5.82 s ( 39.83ms)   5.82 s ( 39.89ms)       146\n",
      "       total  |  27.17 s ( 27.17 s)  27.18 s ( 27.18 s)         1\n"
     ]
    }
   ],
   "source": [
    "\n",
    "opti = ca.Opti()\n",
    "x = opti.variable(13,N+1) # 13 control inputs, N+1 states\n",
    "u = opti.variable(4,N)\n",
    "pi = opti.parameter(13,1)\n",
    "pf = opti.parameter(13,1)\n",
    "\n",
    "cost = ca.sumsqr(x)+ca.sumsqr(u) #least control input\n",
    "opti.minimize(cost) # for collision avoidance need another maximizer should be added to cost function\n",
    "\n",
    "# equality constraints - adding state transition constriants, here F is state transition constarint\n",
    "for k in range(N):\n",
    "\n",
    "    opti.subject_to(x[:,k+1] == F(x[:,k],u[:,k]))\n",
    "\n",
    "final_state = ca.vertcat([1.0, 2.0, 3.0], [1.0, 0.0, 0.0, 0.0], [0.0, 0.0, 0.0], [0.0, 0.0, 0.0])\n",
    "opti.subject_to(x[:, 17] == pf) # 20th step \n",
    "opti.subject_to(x[:, 0] == pi) # 0 is initial step, can put diff value to p \n",
    "\n",
    "#inequality constraints\n",
    "opti.subject_to(opti.bounded(0, u, 5)) # motor can produce only +ve thrust so bounded between 0,5\n",
    " \n",
    "opti.set_value(pi, initial_state) # p is parameter, given to optimizer\n",
    "opti.set_value(pf, final_state)\n",
    "\n",
    "opti.solver('ipopt')  # Choose your solver # used for nonlinear progr\n",
    "opti.solve()\n",
    "\n",
    "# Retrieve the optimized variables\n",
    "x_opt = opti.value(x)\n",
    "u_opt = opti.value(u)\n",
    "\n",
    "\n"
   ]
  },
  {
   "cell_type": "code",
   "execution_count": 34,
   "id": "02c6d186-9efd-4dcd-a13e-9fcda1dcc873",
   "metadata": {},
   "outputs": [
    {
     "data": {
      "text/plain": [
       "[<matplotlib.lines.Line2D at 0x124c45f40>]"
      ]
     },
     "execution_count": 34,
     "metadata": {},
     "output_type": "execute_result"
    },
    {
     "data": {
      "image/png": "[encoded data removed]",
      "text/plain": [
       "<Figure size 640x480 with 1 Axes>"
      ]
     },
     "metadata": {},
     "output_type": "display_data"
    }
   ],
   "source": [
    "x_opt = opti.value(x)\n",
    "u_opt = opti.value(u)\n",
    "pi_opt = opti.value(pi)\n",
    "pf_opt = opti.value(pf)\n",
    "\n",
    "plt.plot(x_opt[1,:])"
   ]
  },
  {
   "cell_type": "code",
   "execution_count": 350,
   "id": "18ad6e32-6758-49fe-91f4-0ad210f3bbf9",
   "metadata": {},
   "outputs": [
    {
     "name": "stdout",
     "output_type": "stream",
     "text": [
      "[2.51625256 2.55069512 2.53400884 2.51740809 2.50643144 2.50113528\n",
      " 2.49852353 2.49673907 2.49529414 2.49415253 2.49331835 2.49268008\n",
      " 2.49184951 2.49004943 2.48597894 2.47758614 2.46386852 2.44296695\n",
      " 2.40320915 2.37990188]\n"
     ]
    },
    {
     "data": {
      "image/png": "[encoded data removed]",
      "text/plain": [
       "<Figure size 640x480 with 1 Axes>"
      ]
     },
     "metadata": {},
     "output_type": "display_data"
    }
   ],
   "source": [
    "plt.plot(u_opt[1,:])\n",
    "print(u_opt[2,:])"
   ]
  },
  {
   "cell_type": "code",
   "execution_count": null,
   "id": "a03017a6-94e3-4d74-92b5-a2b8839e6a75",
   "metadata": {},
   "outputs": [],
   "source": []
  }
 ],
 "metadata": {
  "kernelspec": {
   "display_name": "Python 3 (ipykernel)",
   "language": "python",
   "name": "python3"
  },
  "language_info": {
   "codemirror_mode": {
    "name": "ipython",
    "version": 3
   },
   "file_extension": ".py",
   "mimetype": "text/x-python",
   "name": "python",
   "nbconvert_exporter": "python",
   "pygments_lexer": "ipython3",
   "version": "3.12.1"
  }
 },
 "nbformat": 4,
 "nbformat_minor": 5
}
